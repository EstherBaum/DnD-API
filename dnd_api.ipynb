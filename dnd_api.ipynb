{
 "cells": [
  {
   "cell_type": "code",
   "execution_count": 19,
   "metadata": {},
   "outputs": [],
   "source": [
    "import json\n",
    "import requests\n",
    "from pprint import pprint\n",
    "\n",
    "#create base url and grab glossary of options\n",
    "base_url = \"https://www.dnd5eapi.co\"\n",
    "url = base_url + \"/api/\"\n",
    "glossary = requests.get(url).json()"
   ]
  },
  {
   "cell_type": "code",
   "execution_count": 20,
   "metadata": {},
   "outputs": [],
   "source": [
    "#Create list from dictionary keys in 'glossary', prompting user for which category or 'key' they would like to explore\n",
    "#The first selection only contains a list of dictionaries\n",
    "selection = []\n",
    "for x in list(glossary.keys()):\n",
    "    selection.append(x)\n",
    "choice = input(f\"Which category would you like to explore? Category options are: {str(selection)[1:-1]}\")\n"
   ]
  },
  {
   "cell_type": "code",
   "execution_count": 21,
   "metadata": {},
   "outputs": [],
   "source": [
    "#creating new url\n",
    "second_url = base_url + glossary[choice]"
   ]
  },
  {
   "cell_type": "code",
   "execution_count": 22,
   "metadata": {},
   "outputs": [],
   "source": [
    "#connect to new url\n",
    "response = requests.get(second_url).json()\n",
    "\n",
    "#create a dictionary of the item and the corresponding url ending\n",
    "#create a list with the key of the dictionary \n",
    "search_dict = {}\n",
    "option_list = []\n",
    "\n",
    "#Create a dictionary with the name as key and url as value\n",
    "for x in range(0, int(response[\"count\"])) :\n",
    "    search_dict[(response[\"results\"][x][\"name\"])] = response[\"results\"][x][\"url\"]\n",
    "    option_list.append((response[\"results\"][x][\"name\"]))\n",
    "\n",
    "#Prompt user to select one of the choices saved as keys in search_dict\n",
    "choice_two = input(f\"Which of the following {choice} would you like to explore? Options are {str(option_list)[1:-1]}\")"
   ]
  },
  {
   "cell_type": "code",
   "execution_count": 23,
   "metadata": {},
   "outputs": [
    {
     "name": "stdout",
     "output_type": "stream",
     "text": [
      "https://www.dnd5eapi.co/api/equipment/bagpipes\n"
     ]
    }
   ],
   "source": [
    "#create a new url\n",
    "new_url = base_url + search_dict[choice_two]"
   ]
  },
  {
   "cell_type": "code",
   "execution_count": 24,
   "metadata": {},
   "outputs": [
    {
     "name": "stdout",
     "output_type": "stream",
     "text": [
      "{'contents': [],\n",
      " 'cost': {'quantity': 30, 'unit': 'gp'},\n",
      " 'desc': ['Several of the most common types of musical instruments are shown '\n",
      "          'on the table as examples. If you have proficiency with a given '\n",
      "          'musical instrument, you can add your proficiency bonus to any '\n",
      "          'ability checks you make to play music with the instrument. A bard '\n",
      "          'can use a musical instrument as a spellcasting focus. Each type of '\n",
      "          'musical instrument requires a separate proficiency.'],\n",
      " 'equipment_category': {'index': 'tools',\n",
      "                        'name': 'Tools',\n",
      "                        'url': '/api/equipment-categories/tools'},\n",
      " 'index': 'bagpipes',\n",
      " 'name': 'Bagpipes',\n",
      " 'properties': [],\n",
      " 'special': [],\n",
      " 'tool_category': 'Musical Instrument',\n",
      " 'url': '/api/equipment/bagpipes',\n",
      " 'weight': 6}\n"
     ]
    }
   ],
   "source": [
    "response = requests.get(new_url).json()\n",
    "pprint(response)\n",
    "#pprint(f\"{choice} is {response['desc'][0].lower()}\")\n",
    "#fix the \n",
    "\n",
    "# There are a lot of different options here. Not all have descriptions. need to figure out how to do this... \n",
    "#if dict_key = desc print desc\n",
    "#elif if dict_key = features, dict_key = desc, print desc\n",
    "#else pprint(response) then trey features:{desc:}"
   ]
  },
  {
   "cell_type": "code",
   "execution_count": null,
   "metadata": {},
   "outputs": [],
   "source": []
  }
 ],
 "metadata": {
  "kernelspec": {
   "display_name": "dev",
   "language": "python",
   "name": "python3"
  },
  "language_info": {
   "codemirror_mode": {
    "name": "ipython",
    "version": 3
   },
   "file_extension": ".py",
   "mimetype": "text/x-python",
   "name": "python",
   "nbconvert_exporter": "python",
   "pygments_lexer": "ipython3",
   "version": "3.10.13"
  }
 },
 "nbformat": 4,
 "nbformat_minor": 2
}
